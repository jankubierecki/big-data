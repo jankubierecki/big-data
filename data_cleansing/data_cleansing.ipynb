{
 "cells": [
  {
   "cell_type": "markdown",
   "metadata": {},
   "source": [
    "<p style=\"font-size:22pt;font-family:'Ubuntu';\">Data Cleansing (uncompleted)</p>\n",
    "\n",
    "<br>\n",
    "[Data cleansing](https://en.wikipedia.org/wiki/Data_cleansing) is integral part of any project where big sets of data come into play. In this document I will try to implement some basic data cleansing functions in python.\n",
    "<br>\n",
    "\n",
    "The data is in csv format and contains nearly two thousand records. Some rows in each column have been damaged, so the data is far from being consistent. \n",
    "\n",
    "<br>\n",
    "modules used in this worksheet includes **pandas** dataframe to work on the data, some python build in libraries and **numpy**\n",
    "\n",
    "\n",
    "\n"
   ]
  },
  {
   "cell_type": "markdown",
   "metadata": {},
   "source": [
    " \n",
    " "
   ]
  },
  {
   "cell_type": "markdown",
   "metadata": {},
   "source": [
    " "
   ]
  },
  {
   "cell_type": "code",
   "execution_count": null,
   "metadata": {},
   "outputs": [],
   "source": [
    "import pandas as pd"
   ]
  },
  {
   "cell_type": "code",
   "execution_count": null,
   "metadata": {},
   "outputs": [],
   "source": [
    "dataframe = pd.read_csv('project-dirty.csv', delimiter=';')\n",
    "dataframe.count;"
   ]
  },
  {
   "cell_type": "code",
   "execution_count": null,
   "metadata": {},
   "outputs": [],
   "source": []
  },
  {
   "cell_type": "code",
   "execution_count": null,
   "metadata": {},
   "outputs": [],
   "source": []
  },
  {
   "cell_type": "code",
   "execution_count": null,
   "metadata": {},
   "outputs": [],
   "source": [
    "\"\"\" clean the sixth column which contains unconsistent money value format data. \"\"\""
   ]
  },
  {
   "cell_type": "code",
   "execution_count": null,
   "metadata": {},
   "outputs": [],
   "source": [
    "import numpy as np\n",
    "\n",
    "def equalize(money):\n",
    "    \"\"\" replace all others delimeters to dot \"\"\"\n",
    "    \n",
    "    return money.replace(',', '.').replace('`', '.').replace(\"’\", \".\")\n",
    "\n",
    "def transform(money):\n",
    "    \"\"\" transform invalid money format to vaild one \"\"\"\n",
    "    \n",
    "    multiplier = 1\n",
    "    money = money.replace('zł', '').strip()\n",
    "    if money.find('tys') != -1:\n",
    "        money = money.replace('tys', '').strip()\n",
    "        multiplier = 1000\n",
    "        \n",
    "    if money.find('mln') != -1:\n",
    "        money = money.replace('mln', '').strip()\n",
    "        multiplier = 1000000\n",
    "    \n",
    "    money = \"\".join(money.split())\n",
    "    \n",
    "    splitted = money.split('.')\n",
    "    if len(splitted)>1 and len(splitted[-1])==2:\n",
    "        money = \"\".join(splitted[:-1]) + \".\"+splitted[-1]\n",
    "    else:\n",
    "        money = \"\".join(splitted)\n",
    "    return int(float(money) * multiplier)\n",
    "\n",
    "def launder_money(amount):\n",
    "    \"\"\" apply all changes\"\"\"\n",
    "    \n",
    "    if amount is np.nan:\n",
    "        return 0\n",
    "    else:\n",
    "        base_string = str(amount).strip()\n",
    "        equalized_string = equalize(base_string)\n",
    "        transformed_string = transform(equalized_string)\n",
    "        return transformed_string\n",
    "\n",
    "dataframe[dataframe.columns[5]] = dataframe[dataframe.columns[5]].apply(launder_money)"
   ]
  },
  {
   "cell_type": "code",
   "execution_count": null,
   "metadata": {},
   "outputs": [],
   "source": [
    "dataframe = dataframe.replace(r'\\n',' ', regex=True) \n",
    "dataframe[dataframe.columns[4]] = dataframe[dataframe.columns[4]].str.replace('•', '')"
   ]
  },
  {
   "cell_type": "code",
   "execution_count": null,
   "metadata": {},
   "outputs": [],
   "source": []
  },
  {
   "cell_type": "code",
   "execution_count": null,
   "metadata": {},
   "outputs": [],
   "source": []
  },
  {
   "cell_type": "code",
   "execution_count": null,
   "metadata": {},
   "outputs": [],
   "source": [
    "\"\"\" clean the third column which contains unconsistent datetime data \"\"\""
   ]
  },
  {
   "cell_type": "code",
   "execution_count": null,
   "metadata": {
    "scrolled": false
   },
   "outputs": [],
   "source": [
    "def date_deterimner(date):\n",
    "    \"\"\" get number of years where row is not in date format\"\"\"\n",
    "    if date is np.nan:\n",
    "        return 0\n",
    "    return int(str(date)[0])\n",
    "\n",
    "def new_cleaned_closed_date(start_close_dates):\n",
    "    def is_date(string):\n",
    "        if string is np.nan:\n",
    "            return False\n",
    "        from dateutil.parser import parse\n",
    "        try: \n",
    "            parse(string)\n",
    "            return True\n",
    "        except ValueError:\n",
    "            return False\n",
    "        \n",
    "    def my_uber_date_fmt(date, formats):\n",
    "        for candidate in formats:\n",
    "            try:\n",
    "                return datetime.datetime.strptime(date, candidate)\n",
    "            except:\n",
    "                pass\n",
    "            \n",
    "        raise ValueError('Could not perform formatting with supplied formats ' + str(date))\n",
    "    \n",
    "    #get format date style based on start_date column determined by date_determiner func\n",
    "    import datetime\n",
    "    from dateutil.relativedelta import relativedelta\n",
    "    \n",
    "    start_date, close_date = start_close_dates\n",
    "    \n",
    "    if start_date is np.nan:\n",
    "        return [str(np.nan), str(np.nan)]\n",
    "\n",
    "    date_formats = [\"%Y-%m-%d\", \"%y-%m-%d\", \n",
    "                    \"%Y %m %d\", \"%y %m %d\",\n",
    "                    \"%d.%m.%Y\", \"%d.%m.%y\"]\n",
    "    start_date = my_uber_date_fmt(start_date, date_formats)\n",
    "    \n",
    "    if not is_date(close_date):\n",
    "        close_date = start_date + relativedelta(years=date_deterimner(close_date))\n",
    "        close_date = str(close_date)[:10]\n",
    "\n",
    "    close_date = my_uber_date_fmt(close_date, date_formats)\n",
    "    return [str(start_date)[:10], str(close_date)[:10]]\n"
   ]
  },
  {
   "cell_type": "code",
   "execution_count": null,
   "metadata": {},
   "outputs": [],
   "source": [
    "dataframe[dataframe.columns[2:4]] = dataframe[dataframe.columns[2:4]].apply(new_cleaned_closed_date, raw=True, axis=1)\n"
   ]
  },
  {
   "cell_type": "code",
   "execution_count": null,
   "metadata": {},
   "outputs": [],
   "source": [
    "from openpyxl import load_workbook\n",
    "workbook = load_workbook('names.xlsx')\n",
    "worksheet = workbook.active\n",
    "head_row, *rows = worksheet.values\n",
    "names_data = pd.DataFrame(rows, columns=head_row)\n",
    "name_to_sex = names_data[['Imię', 'Płeć']]\n",
    "name_to_sex;"
   ]
  },
  {
   "cell_type": "code",
   "execution_count": null,
   "metadata": {},
   "outputs": [],
   "source": []
  }
 ],
 "metadata": {
  "kernelspec": {
   "display_name": "Python 3",
   "language": "python",
   "name": "python3"
  },
  "language_info": {
   "codemirror_mode": {
    "name": "ipython",
    "version": 3
   },
   "file_extension": ".py",
   "mimetype": "text/x-python",
   "name": "python",
   "nbconvert_exporter": "python",
   "pygments_lexer": "ipython3",
   "version": "3.6.5"
  }
 },
 "nbformat": 4,
 "nbformat_minor": 2
}
