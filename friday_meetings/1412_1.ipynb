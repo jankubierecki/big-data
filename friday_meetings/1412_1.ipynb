{
 "cells": [
  {
   "cell_type": "code",
   "execution_count": 87,
   "metadata": {},
   "outputs": [],
   "source": [
    "def odd (number):\n",
    "    return number % 2 != 0"
   ]
  },
  {
   "cell_type": "code",
   "execution_count": 88,
   "metadata": {},
   "outputs": [],
   "source": [
    "def binomial (n, k):\n",
    "    \"\"\"Compute binomial coefficient n choose k.\"\"\"\n",
    "    product = 1\n",
    "    for i in range(k):\n",
    "        product *= n-i\n",
    "        product //= i+1\n",
    "    return product"
   ]
  },
  {
   "cell_type": "code",
   "execution_count": 89,
   "metadata": {},
   "outputs": [
    {
     "name": "stdout",
     "output_type": "stream",
     "text": [
      "1 \n",
      "1 1 \n",
      "1 2 1 \n",
      "1 3 3 1 \n",
      "1 4 6 4 1 \n",
      "1 5 10 10 5 1 \n",
      "1 6 15 20 15 6 1 \n",
      "1 7 21 35 35 21 7 1 \n",
      "1 8 28 56 70 56 28 8 1 \n",
      "1 9 36 84 126 126 84 36 9 1 \n",
      "1 10 45 120 210 252 210 120 45 10 1 \n",
      "1 11 55 165 330 462 462 330 165 55 11 1 \n",
      "1 12 66 220 495 792 924 792 495 220 66 12 1 \n"
     ]
    }
   ],
   "source": [
    "def pascal_triangle (order):\n",
    "    for n in range(order+1):\n",
    "        for k in range(n+1):\n",
    "            print(binomial(n, k), end=' ')\n",
    "        print()\n",
    "        \n",
    "pascal_triangle(12)"
   ]
  },
  {
   "cell_type": "code",
   "execution_count": 90,
   "metadata": {},
   "outputs": [
    {
     "data": {
      "text/plain": [
       "1"
      ]
     },
     "execution_count": 90,
     "metadata": {},
     "output_type": "execute_result"
    }
   ],
   "source": [
    "binomial(1, 0)\n"
   ]
  },
  {
   "cell_type": "code",
   "execution_count": 120,
   "metadata": {},
   "outputs": [
    {
     "data": {
      "text/plain": [
       "<generator object pascal_triangle at 0x7ff0e44c0b10>"
      ]
     },
     "execution_count": 120,
     "metadata": {},
     "output_type": "execute_result"
    }
   ],
   "source": [
    "def pascal_triangle (order):\n",
    "    for n in range(order+1):\n",
    "        for k in range(n+1):\n",
    "            yield n, k, binomial(n, k)\n",
    "            \n",
    "pascal_triangle(12)"
   ]
  },
  {
   "cell_type": "code",
   "execution_count": 121,
   "metadata": {},
   "outputs": [
    {
     "name": "stdout",
     "output_type": "stream",
     "text": [
      "(0, 0, 1) (1, 0, 1) (1, 1, 1) (2, 0, 1) (2, 1, 2) (2, 2, 1) (3, 0, 1) (3, 1, 3) (3, 2, 3) (3, 3, 1) (4, 0, 1) (4, 1, 4) (4, 2, 6) (4, 3, 4) (4, 4, 1) (5, 0, 1) (5, 1, 5) (5, 2, 10) (5, 3, 10) (5, 4, 5) (5, 5, 1) (6, 0, 1) (6, 1, 6) (6, 2, 15) (6, 3, 20) (6, 4, 15) (6, 5, 6) (6, 6, 1) (7, 0, 1) (7, 1, 7) (7, 2, 21) (7, 3, 35) (7, 4, 35) (7, 5, 21) (7, 6, 7) (7, 7, 1) (8, 0, 1) (8, 1, 8) (8, 2, 28) (8, 3, 56) (8, 4, 70) (8, 5, 56) (8, 6, 28) (8, 7, 8) (8, 8, 1) (9, 0, 1) (9, 1, 9) (9, 2, 36) (9, 3, 84) (9, 4, 126) (9, 5, 126) (9, 6, 84) (9, 7, 36) (9, 8, 9) (9, 9, 1) (10, 0, 1) (10, 1, 10) (10, 2, 45) (10, 3, 120) (10, 4, 210) (10, 5, 252) (10, 6, 210) (10, 7, 120) (10, 8, 45) (10, 9, 10) (10, 10, 1)\n"
     ]
    }
   ],
   "source": [
    "print(*pascal_triangle(10))"
   ]
  },
  {
   "cell_type": "code",
   "execution_count": 122,
   "metadata": {},
   "outputs": [],
   "source": [
    "def odd_binomal(triple):\n",
    "    n, k, value = triple\n",
    "    return odd(value)"
   ]
  },
  {
   "cell_type": "code",
   "execution_count": 123,
   "metadata": {},
   "outputs": [
    {
     "name": "stdout",
     "output_type": "stream",
     "text": [
      "(0, 0, 1) (1, 0, 1) (1, 1, 1) (2, 0, 1) (2, 2, 1) (3, 0, 1) (3, 1, 3) (3, 2, 3) (3, 3, 1) (4, 0, 1) (4, 4, 1) (5, 0, 1) (5, 1, 5) (5, 4, 5) (5, 5, 1) (6, 0, 1) (6, 2, 15) (6, 4, 15) (6, 6, 1) (7, 0, 1) (7, 1, 7) (7, 2, 21) (7, 3, 35) (7, 4, 35) (7, 5, 21) (7, 6, 7) (7, 7, 1) (8, 0, 1) (8, 8, 1) (9, 0, 1) (9, 1, 9) (9, 8, 9) (9, 9, 1) (10, 0, 1) (10, 2, 45) (10, 8, 45) (10, 10, 1)\n"
     ]
    }
   ],
   "source": [
    "print(*filter(odd_binomal, pascal_triangle(10)))"
   ]
  },
  {
   "cell_type": "code",
   "execution_count": 124,
   "metadata": {},
   "outputs": [
    {
     "name": "stdout",
     "output_type": "stream",
     "text": [
      "(0, 0, 1) (1, 0, 1) (1, 1, 1) (2, 0, 1) (2, 2, 1) (3, 0, 1) (3, 1, 3) (3, 2, 3) (3, 3, 1) (4, 0, 1) (4, 4, 1) (5, 0, 1) (5, 1, 5) (5, 4, 5) (5, 5, 1) (6, 0, 1) (6, 2, 15) (6, 4, 15) (6, 6, 1) (7, 0, 1) (7, 1, 7) (7, 2, 21) (7, 3, 35) (7, 4, 35) (7, 5, 21) (7, 6, 7) (7, 7, 1) (8, 0, 1) (8, 8, 1) (9, 0, 1) (9, 1, 9) (9, 8, 9) (9, 9, 1) (10, 0, 1) (10, 2, 45) (10, 8, 45) (10, 10, 1)\n"
     ]
    }
   ],
   "source": [
    "print(*filter(lambda triple: odd(triple[2]), pascal_triangle(10)))"
   ]
  },
  {
   "cell_type": "code",
   "execution_count": 125,
   "metadata": {},
   "outputs": [
    {
     "data": {
      "text/plain": [
       "<filter at 0x7ff0e43d2160>"
      ]
     },
     "execution_count": 125,
     "metadata": {},
     "output_type": "execute_result"
    }
   ],
   "source": [
    "points = filter(odd_binomal, pascal_triangle(255))\n",
    "points"
   ]
  },
  {
   "cell_type": "code",
   "execution_count": 126,
   "metadata": {},
   "outputs": [],
   "source": [
    "x, y, v = zip(*points)"
   ]
  },
  {
   "cell_type": "code",
   "execution_count": 127,
   "metadata": {},
   "outputs": [],
   "source": [
    "import matplotlib.pyplot as plt"
   ]
  },
  {
   "cell_type": "code",
   "execution_count": 129,
   "metadata": {},
   "outputs": [
    {
     "ename": "ValueError",
     "evalue": "math domain error",
     "output_type": "error",
     "traceback": [
      "\u001b[0;31m---------------------------------------------------------------------------\u001b[0m",
      "\u001b[0;31mValueError\u001b[0m                                Traceback (most recent call last)",
      "\u001b[0;32m<ipython-input-129-0420a5784431>\u001b[0m in \u001b[0;36m<module>\u001b[0;34m()\u001b[0m\n\u001b[1;32m      1\u001b[0m \u001b[0;32mfrom\u001b[0m \u001b[0mmath\u001b[0m \u001b[0;32mimport\u001b[0m \u001b[0mlog\u001b[0m\u001b[0;34m\u001b[0m\u001b[0m\n\u001b[1;32m      2\u001b[0m \u001b[0mplt\u001b[0m\u001b[0;34m.\u001b[0m\u001b[0mfigure\u001b[0m\u001b[0;34m(\u001b[0m\u001b[0mfigsize\u001b[0m\u001b[0;34m=\u001b[0m\u001b[0;34m(\u001b[0m\u001b[0;36m8\u001b[0m\u001b[0;34m,\u001b[0m \u001b[0;36m8\u001b[0m\u001b[0;34m)\u001b[0m\u001b[0;34m)\u001b[0m\u001b[0;34m\u001b[0m\u001b[0m\n\u001b[0;32m----> 3\u001b[0;31m \u001b[0mv\u001b[0m \u001b[0;34m=\u001b[0m \u001b[0;34m[\u001b[0m\u001b[0mlog\u001b[0m\u001b[0;34m(\u001b[0m\u001b[0mi\u001b[0m\u001b[0;34m,\u001b[0m \u001b[0;36m10\u001b[0m\u001b[0;34m)\u001b[0m \u001b[0;32mfor\u001b[0m \u001b[0mi\u001b[0m \u001b[0;32min\u001b[0m \u001b[0mv\u001b[0m\u001b[0;34m]\u001b[0m\u001b[0;34m\u001b[0m\u001b[0m\n\u001b[0m\u001b[1;32m      4\u001b[0m \u001b[0mv\u001b[0m\u001b[0;34m\u001b[0m\u001b[0m\n\u001b[1;32m      5\u001b[0m \u001b[0mplt\u001b[0m\u001b[0;34m.\u001b[0m\u001b[0mscatter\u001b[0m\u001b[0;34m(\u001b[0m\u001b[0mx\u001b[0m\u001b[0;34m,\u001b[0m \u001b[0my\u001b[0m\u001b[0;34m,\u001b[0m \u001b[0ms\u001b[0m\u001b[0;34m=\u001b[0m\u001b[0;36m1\u001b[0m\u001b[0;34m,\u001b[0m \u001b[0mc\u001b[0m\u001b[0;34m=\u001b[0m\u001b[0mv\u001b[0m\u001b[0;34m)\u001b[0m\u001b[0;34m\u001b[0m\u001b[0m\n",
      "\u001b[0;32m<ipython-input-129-0420a5784431>\u001b[0m in \u001b[0;36m<listcomp>\u001b[0;34m(.0)\u001b[0m\n\u001b[1;32m      1\u001b[0m \u001b[0;32mfrom\u001b[0m \u001b[0mmath\u001b[0m \u001b[0;32mimport\u001b[0m \u001b[0mlog\u001b[0m\u001b[0;34m\u001b[0m\u001b[0m\n\u001b[1;32m      2\u001b[0m \u001b[0mplt\u001b[0m\u001b[0;34m.\u001b[0m\u001b[0mfigure\u001b[0m\u001b[0;34m(\u001b[0m\u001b[0mfigsize\u001b[0m\u001b[0;34m=\u001b[0m\u001b[0;34m(\u001b[0m\u001b[0;36m8\u001b[0m\u001b[0;34m,\u001b[0m \u001b[0;36m8\u001b[0m\u001b[0;34m)\u001b[0m\u001b[0;34m)\u001b[0m\u001b[0;34m\u001b[0m\u001b[0m\n\u001b[0;32m----> 3\u001b[0;31m \u001b[0mv\u001b[0m \u001b[0;34m=\u001b[0m \u001b[0;34m[\u001b[0m\u001b[0mlog\u001b[0m\u001b[0;34m(\u001b[0m\u001b[0mi\u001b[0m\u001b[0;34m,\u001b[0m \u001b[0;36m10\u001b[0m\u001b[0;34m)\u001b[0m \u001b[0;32mfor\u001b[0m \u001b[0mi\u001b[0m \u001b[0;32min\u001b[0m \u001b[0mv\u001b[0m\u001b[0;34m]\u001b[0m\u001b[0;34m\u001b[0m\u001b[0m\n\u001b[0m\u001b[1;32m      4\u001b[0m \u001b[0mv\u001b[0m\u001b[0;34m\u001b[0m\u001b[0m\n\u001b[1;32m      5\u001b[0m \u001b[0mplt\u001b[0m\u001b[0;34m.\u001b[0m\u001b[0mscatter\u001b[0m\u001b[0;34m(\u001b[0m\u001b[0mx\u001b[0m\u001b[0;34m,\u001b[0m \u001b[0my\u001b[0m\u001b[0;34m,\u001b[0m \u001b[0ms\u001b[0m\u001b[0;34m=\u001b[0m\u001b[0;36m1\u001b[0m\u001b[0;34m,\u001b[0m \u001b[0mc\u001b[0m\u001b[0;34m=\u001b[0m\u001b[0mv\u001b[0m\u001b[0;34m)\u001b[0m\u001b[0;34m\u001b[0m\u001b[0m\n",
      "\u001b[0;31mValueError\u001b[0m: math domain error"
     ]
    },
    {
     "data": {
      "text/plain": [
       "<Figure size 576x576 with 0 Axes>"
      ]
     },
     "metadata": {},
     "output_type": "display_data"
    }
   ],
   "source": [
    "from math import log\n",
    "plt.figure(figsize=(8, 8))\n",
    "v = [log(i, 10) for i in v]\n",
    "v\n",
    "plt.scatter(x, y, s=1, c=v)"
   ]
  },
  {
   "cell_type": "code",
   "execution_count": null,
   "metadata": {},
   "outputs": [],
   "source": []
  }
 ],
 "metadata": {
  "kernelspec": {
   "display_name": "Python 3",
   "language": "python",
   "name": "python3"
  },
  "language_info": {
   "codemirror_mode": {
    "name": "ipython",
    "version": 3
   },
   "file_extension": ".py",
   "mimetype": "text/x-python",
   "name": "python",
   "nbconvert_exporter": "python",
   "pygments_lexer": "ipython3",
   "version": "3.7.0"
  }
 },
 "nbformat": 4,
 "nbformat_minor": 2
}
