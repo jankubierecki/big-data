{
 "cells": [
  {
   "cell_type": "code",
   "execution_count": 18,
   "metadata": {},
   "outputs": [],
   "source": [
    "with open('work_time.log', 'r', encoding='utf-8') as file:\n",
    "    lines = file.read().splitlines()[8:]\n",
    "    \n",
    "triples = map(str.split, lines)\n",
    "    \n",
    "import datetime as dt\n",
    "str_to_date = lambda s: dt.datetime.strptime(s, '%d.%m.%Y').date()"
   ]
  },
  {
   "cell_type": "code",
   "execution_count": 19,
   "metadata": {},
   "outputs": [],
   "source": [
    "data = [(name, str_to_date(day), int(hours))\n",
    "       for name, day, hours in triples]"
   ]
  },
  {
   "cell_type": "code",
   "execution_count": 20,
   "metadata": {},
   "outputs": [],
   "source": [
    "name_errata = {'Alcija': 'Alicja'}\n",
    "\n",
    "data_dict = {}\n",
    "for name, date, hours in data:\n",
    "    name = name_errata.get(name, name)\n",
    "    if name not in data_dict:\n",
    "        data_dict[name]= {}\n",
    "    data_dict[name][date] = hours"
   ]
  },
  {
   "cell_type": "code",
   "execution_count": 21,
   "metadata": {},
   "outputs": [
    {
     "data": {
      "text/plain": [
       "{'Dorota': {'count': 25, 'sum': 175, 'mean': 7, 'stdev': 0.0},\n",
       " 'Błażej': {'count': 30, 'sum': 174, 'mean': 5.8, 'stdev': 1.4239333576037019},\n",
       " 'Edward': {'count': 21,\n",
       "  'sum': 40,\n",
       "  'mean': 1.9047619047619047,\n",
       "  'stdev': 0.7684244858645451},\n",
       " 'Cezary': {'count': 18,\n",
       "  'sum': 157,\n",
       "  'mean': 8.722222222222221,\n",
       "  'stdev': 4.884616374310577},\n",
       " 'Feliks': {'count': 9,\n",
       "  'sum': 46,\n",
       "  'mean': 5.111111111111111,\n",
       "  'stdev': 4.4565806523736455},\n",
       " 'Alicja': {'count': 21, 'sum': 168, 'mean': 8, 'stdev': 0.0}}"
      ]
     },
     "execution_count": 21,
     "metadata": {},
     "output_type": "execute_result"
    }
   ],
   "source": [
    "from statistics import mean, stdev\n",
    "import math\n",
    "\n",
    "stats_dict = {name: {} for name in data_dict}\n",
    "for name, records in data_dict.items():\n",
    "    stats_dict[name]['count'] = len(records)\n",
    "    stats_dict[name]['sum'] = sum(records.values())\n",
    "    stats_dict[name]['mean'] = mean(records.values())\n",
    "    stats_dict[name]['stdev'] = stdev(records.values())\n",
    "\n",
    "stats_dict"
   ]
  },
  {
   "cell_type": "code",
   "execution_count": 42,
   "metadata": {},
   "outputs": [
    {
     "data": {
      "text/plain": [
       "defaultdict(list,\n",
       "            {'name': ['Dorota',\n",
       "              'Błażej',\n",
       "              'Edward',\n",
       "              'Cezary',\n",
       "              'Feliks',\n",
       "              'Alicja'],\n",
       "             'count': [25, 30, 21, 18, 9, 21],\n",
       "             'sum': [175, 174, 40, 157, 46, 168],\n",
       "             'mean': [7,\n",
       "              5.8,\n",
       "              1.9047619047619047,\n",
       "              8.722222222222221,\n",
       "              5.111111111111111,\n",
       "              8],\n",
       "             'stdev': [0.0,\n",
       "              1.4239333576037019,\n",
       "              0.7684244858645451,\n",
       "              4.884616374310577,\n",
       "              4.4565806523736455,\n",
       "              0.0]})"
      ]
     },
     "execution_count": 42,
     "metadata": {},
     "output_type": "execute_result"
    }
   ],
   "source": [
    "from collections import defaultdict\n",
    "\n",
    "series = defaultdict(list)\n",
    "for name, stats in stats_dict.items():\n",
    "    series['name'].append(name)\n",
    "    for key, value in stats.items():\n",
    "        series[key].append(value)\n",
    "series"
   ]
  },
  {
   "cell_type": "code",
   "execution_count": 43,
   "metadata": {},
   "outputs": [
    {
     "data": {
      "text/html": [
       "<div>\n",
       "<style scoped>\n",
       "    .dataframe tbody tr th:only-of-type {\n",
       "        vertical-align: middle;\n",
       "    }\n",
       "\n",
       "    .dataframe tbody tr th {\n",
       "        vertical-align: top;\n",
       "    }\n",
       "\n",
       "    .dataframe thead th {\n",
       "        text-align: right;\n",
       "    }\n",
       "</style>\n",
       "<table border=\"1\" class=\"dataframe\">\n",
       "  <thead>\n",
       "    <tr style=\"text-align: right;\">\n",
       "      <th></th>\n",
       "      <th>count</th>\n",
       "      <th>sum</th>\n",
       "      <th>mean</th>\n",
       "      <th>stdev</th>\n",
       "    </tr>\n",
       "    <tr>\n",
       "      <th>name</th>\n",
       "      <th></th>\n",
       "      <th></th>\n",
       "      <th></th>\n",
       "      <th></th>\n",
       "    </tr>\n",
       "  </thead>\n",
       "  <tbody>\n",
       "    <tr>\n",
       "      <th>Alicja</th>\n",
       "      <td>21</td>\n",
       "      <td>168</td>\n",
       "      <td>8.000000</td>\n",
       "      <td>0.000000</td>\n",
       "    </tr>\n",
       "    <tr>\n",
       "      <th>Błażej</th>\n",
       "      <td>30</td>\n",
       "      <td>174</td>\n",
       "      <td>5.800000</td>\n",
       "      <td>1.423933</td>\n",
       "    </tr>\n",
       "    <tr>\n",
       "      <th>Cezary</th>\n",
       "      <td>18</td>\n",
       "      <td>157</td>\n",
       "      <td>8.722222</td>\n",
       "      <td>4.884616</td>\n",
       "    </tr>\n",
       "    <tr>\n",
       "      <th>Dorota</th>\n",
       "      <td>25</td>\n",
       "      <td>175</td>\n",
       "      <td>7.000000</td>\n",
       "      <td>0.000000</td>\n",
       "    </tr>\n",
       "    <tr>\n",
       "      <th>Edward</th>\n",
       "      <td>21</td>\n",
       "      <td>40</td>\n",
       "      <td>1.904762</td>\n",
       "      <td>0.768424</td>\n",
       "    </tr>\n",
       "    <tr>\n",
       "      <th>Feliks</th>\n",
       "      <td>9</td>\n",
       "      <td>46</td>\n",
       "      <td>5.111111</td>\n",
       "      <td>4.456581</td>\n",
       "    </tr>\n",
       "  </tbody>\n",
       "</table>\n",
       "</div>"
      ],
      "text/plain": [
       "        count  sum      mean     stdev\n",
       "name                                  \n",
       "Alicja     21  168  8.000000  0.000000\n",
       "Błażej     30  174  5.800000  1.423933\n",
       "Cezary     18  157  8.722222  4.884616\n",
       "Dorota     25  175  7.000000  0.000000\n",
       "Edward     21   40  1.904762  0.768424\n",
       "Feliks      9   46  5.111111  4.456581"
      ]
     },
     "execution_count": 43,
     "metadata": {},
     "output_type": "execute_result"
    }
   ],
   "source": [
    "import pandas as pd\n",
    "\n",
    "df = pd.DataFrame(series).set_index('name').sort_index()\n",
    "df"
   ]
  },
  {
   "cell_type": "code",
   "execution_count": 44,
   "metadata": {},
   "outputs": [],
   "source": [
    "def convert_to_size(series, min_size=100, max_size=5000):\n",
    "    maximum = max(series)\n",
    "    normalized = [value / maximum for value in series]\n",
    "    size_range = max_size - min_size\n",
    "    return [value * size_range + min_size for value in normalized]\n",
    "\n",
    "series['size'] = convert_to_size(series['sum'])"
   ]
  },
  {
   "cell_type": "code",
   "execution_count": 86,
   "metadata": {},
   "outputs": [
    {
     "data": {
      "image/png": "[encoded data removed]",
      "text/plain": [
       "<Figure size 864x576 with 2 Axes>"
      ]
     },
     "metadata": {
      "needs_background": "light"
     },
     "output_type": "display_data"
    }
   ],
   "source": [
    "from matplotlib.colors import LinearSegmentedColormap\n",
    "import matplotlib.pyplot as plt\n",
    "\n",
    "mymap = LinearSegmentedColormap.from_list('work', ['red', 'yellow', 'green'])\n",
    "\n",
    "plt.figure(figsize=(12, 8))\n",
    "plt.scatter(x=series['mean'], y=series['stdev'], \n",
    "            c=series['count'], s=series['size'], cmap=mymap);\n",
    "plt.xlabel('Wytrwałość', size=15, alpha=0.5)\n",
    "plt.ylabel('Niesystematyczność', size=15)\n",
    "for x, y, name, c in zip(series['mean'], series['stdev'], series['name'], series['count']):\n",
    "    plt.annotate(name, xy=(x, y), ha='center', va='center', size=13)\n",
    "    plt.annotate(str(c), xy=(x, y), xytext=(0, -15), textcoords='offset pixels', ha='center', va='center')\n",
    "plt.xticks(range(1,11));\n",
    "plt.yticks(range(7));\n",
    "plt.margins(0.1, 0.2)\n",
    "plt.axhline(mean(series['stdev']), linestyle='--')\n",
    "plt.colorbar(ticks=range(0, 50, 10)).set_label('Systematyczność')\n",
    "plt.grid(True, alpha=0.5)\n",
    "\n",
    "plt.savefig('figure.png')"
   ]
  }
 ],
 "metadata": {
  "kernelspec": {
   "display_name": "Python 3",
   "language": "python",
   "name": "python3"
  },
  "language_info": {
   "codemirror_mode": {
    "name": "ipython",
    "version": 3
   },
   "file_extension": ".py",
   "mimetype": "text/x-python",
   "name": "python",
   "nbconvert_exporter": "python",
   "pygments_lexer": "ipython3",
   "version": "3.7.0"
  }
 },
 "nbformat": 4,
 "nbformat_minor": 2
}
