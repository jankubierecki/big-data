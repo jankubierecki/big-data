{
 "cells": [
  {
   "cell_type": "code",
   "execution_count": 1,
   "metadata": {},
   "outputs": [],
   "source": [
    "from scrapy import Spider\n",
    "from scrapy.crawler import CrawlerProcess\n",
    "\n",
    "import logging\n",
    "import os"
   ]
  },
  {
   "cell_type": "code",
   "execution_count": 2,
   "metadata": {
    "scrolled": true
   },
   "outputs": [],
   "source": [
    "ENTRY_URL = 'https://www.booking.com/searchresults.pl.html?aid=356980&label=gog235jc-1DCAMoZUIJcG9kc3RyYW5hSB5YA2i2AYgBAZgBHrgBGcgBDNgBA-gBAfgBAogCAagCA7gCxpme5QXAAgE&sid=4b84ab80353fa8fec5564105dadae442&sb=1&src=city&src_elem=sb&error_url=https%3A%2F%2Fwww.booking.com%2Fcity%2Fhr%2Fpodstrana.pl.html%3Faid%3D356980%3Blabel%3Dgog235jc-1DCAMoZUIJcG9kc3RyYW5hSB5YA2i2AYgBAZgBHrgBGcgBDNgBA-gBAfgBAogCAagCA7gCxpme5QXAAgE%3Bsid%3D4b84ab80353fa8fec5564105dadae442%3Binac%3D0%26%3B&ss=Podstrana&is_ski_area=0&ssne=Podstrana&ssne_untouched=Podstrana&city=-92454&checkin_year=&checkin_month=&checkout_year=&checkout_month=&no_rooms=1&group_adults=2&group_children=0&b_h4u_keep_filters=&from_sf=1' "
   ]
  },
  {
   "cell_type": "code",
   "execution_count": 3,
   "metadata": {},
   "outputs": [],
   "source": [
    "def try_remove(filename):\n",
    "    try:\n",
    "        os.remove(filename)\n",
    "    except OSError:\n",
    "        pass"
   ]
  },
  {
   "cell_type": "code",
   "execution_count": 4,
   "metadata": {},
   "outputs": [],
   "source": [
    "class BookingComOpinions(Spider):\n",
    "    name = 'BookingComOpinionsSpider'\n",
    "    \n",
    "    custom_settings = {\n",
    "        'FEED_URI': '%(json_file)s', \n",
    "        'FEED_FORMAT': 'json',\n",
    "        'DOWNLOAD_DELAY': 3,\n",
    "        'LOG_LEVEL': logging.INFO,\n",
    "        'EXTENSIONS': {\n",
    "            'scrapy.extensions.closespider.CloseSpider': 1\n",
    "        },\n",
    "        'CLOSESPIDER_ITEMCOUNT': 10\n",
    "    }\n",
    "    \n",
    "    def parse (self, response):\n",
    "        hotels = response.css('div.sr_item')\n",
    "        for hotel in hotels:\n",
    "            hotel_name = hotel.css('span.sr-hotel__name::text').get().strip()\n",
    "            for hotel_link in hotel.css('.hotel_name_link.url'):\n",
    "                yield response.follow(hotel_link, self.parse_hotel, meta={'hotel': hotel_name})\n",
    "        \n",
    "        for link in response.css('a[data-page-next]'):\n",
    "            yield response.follow(link)\n",
    "            \n",
    "    def parse_hotel (self, response):\n",
    "        hotel_name = response.meta['hotel']\n",
    "        for reviews_link in response.css('a.show_all_reviews_btn'):\n",
    "            yield response.follow(reviews_link, self.parse_reviews, meta={'hotel': hotel_name})\n",
    "        \n",
    "    def parse_reviews(self, response):\n",
    "        hotel_name = response.meta['hotel']\n",
    "        items = response.css('li.review_item')\n",
    "        for item in items:\n",
    "            publish_date = item.css('meta[itemprop=\"datePublished\"]'\n",
    "                                    '::attr(content)').get('')\n",
    "            reviewer = item.css('div.review_item_reviewer')\n",
    "            rev_count = reviewer.css('div.review_item_user_review_count::text').get('')\n",
    "            \n",
    "            review = item.css('div.review_item_review')\n",
    "            rating = review.css('meta[itemprop=\"ratingValue\"]'\n",
    "                                    '::attr(content)').get('')\n",
    "            raw_tags = review.css('li.review_info_tag::text').getall()\n",
    "            tags = list(filter(None, map(str.strip, raw_tags)))\n",
    "\n",
    "            yield {\n",
    "                'hotel': hotel_name,\n",
    "                'publish_date': publish_date,\n",
    "                'rev_count': rev_count,\n",
    "                'rating': rating,\n",
    "                'tags': tags\n",
    "            }\n",
    "            \n",
    "                    \n",
    "        for next_page in response.css('a#review_next_page_link'):\n",
    "            yield response.follow(next_page, self.parse_reviews,\n",
    "                                 meta = response.meta)"
   ]
  },
  {
   "cell_type": "code",
   "execution_count": 5,
   "metadata": {},
   "outputs": [],
   "source": [
    "json_file = 'hotels.json'\n",
    "# try_remove(json_file)"
   ]
  },
  {
   "cell_type": "code",
   "execution_count": 6,
   "metadata": {
    "scrolled": true
   },
   "outputs": [
    {
     "name": "stderr",
     "output_type": "stream",
     "text": [
      "2019-04-10 23:08:13 [scrapy.utils.log] INFO: Scrapy 1.5.2 started (bot: scrapybot)\n",
      "2019-04-10 23:08:13 [scrapy.utils.log] INFO: Versions: lxml 4.3.1.0, libxml2 2.9.9, cssselect 1.0.3, parsel 1.5.1, w3lib 1.20.0, Twisted 18.9.0, Python 3.7.2 (default, Dec 29 2018, 06:19:36) - [GCC 7.3.0], pyOpenSSL 19.0.0 (OpenSSL 1.1.1b  26 Feb 2019), cryptography 2.6.1, Platform Linux-4.9.0-8-amd64-x86_64-with-debian-9.8\n",
      "2019-04-10 23:08:13 [scrapy.crawler] INFO: Overridden settings: {'CLOSESPIDER_ITEMCOUNT': 10, 'DOWNLOAD_DELAY': 3, 'FEED_FORMAT': 'json', 'FEED_URI': '%(json_file)s', 'LOG_LEVEL': 20}\n",
      "2019-04-10 23:08:13 [scrapy.extensions.telnet] INFO: Telnet Password: bd251e7e4a00cfe4\n",
      "2019-04-10 23:08:13 [scrapy.middleware] INFO: Enabled extensions:\n",
      "['scrapy.extensions.corestats.CoreStats',\n",
      " 'scrapy.extensions.telnet.TelnetConsole',\n",
      " 'scrapy.extensions.memusage.MemoryUsage',\n",
      " 'scrapy.extensions.feedexport.FeedExporter',\n",
      " 'scrapy.extensions.logstats.LogStats',\n",
      " 'scrapy.extensions.closespider.CloseSpider']\n",
      "2019-04-10 23:08:13 [scrapy.middleware] INFO: Enabled downloader middlewares:\n",
      "['scrapy.downloadermiddlewares.httpauth.HttpAuthMiddleware',\n",
      " 'scrapy.downloadermiddlewares.downloadtimeout.DownloadTimeoutMiddleware',\n",
      " 'scrapy.downloadermiddlewares.defaultheaders.DefaultHeadersMiddleware',\n",
      " 'scrapy.downloadermiddlewares.useragent.UserAgentMiddleware',\n",
      " 'scrapy.downloadermiddlewares.retry.RetryMiddleware',\n",
      " 'scrapy.downloadermiddlewares.redirect.MetaRefreshMiddleware',\n",
      " 'scrapy.downloadermiddlewares.httpcompression.HttpCompressionMiddleware',\n",
      " 'scrapy.downloadermiddlewares.redirect.RedirectMiddleware',\n",
      " 'scrapy.downloadermiddlewares.cookies.CookiesMiddleware',\n",
      " 'scrapy.downloadermiddlewares.httpproxy.HttpProxyMiddleware',\n",
      " 'scrapy.downloadermiddlewares.stats.DownloaderStats']\n",
      "2019-04-10 23:08:13 [scrapy.middleware] INFO: Enabled spider middlewares:\n",
      "['scrapy.spidermiddlewares.httperror.HttpErrorMiddleware',\n",
      " 'scrapy.spidermiddlewares.offsite.OffsiteMiddleware',\n",
      " 'scrapy.spidermiddlewares.referer.RefererMiddleware',\n",
      " 'scrapy.spidermiddlewares.urllength.UrlLengthMiddleware',\n",
      " 'scrapy.spidermiddlewares.depth.DepthMiddleware']\n",
      "2019-04-10 23:08:13 [scrapy.middleware] INFO: Enabled item pipelines:\n",
      "[]\n",
      "2019-04-10 23:08:13 [scrapy.core.engine] INFO: Spider opened\n",
      "2019-04-10 23:08:13 [scrapy.extensions.logstats] INFO: Crawled 0 pages (at 0 pages/min), scraped 0 items (at 0 items/min)\n"
     ]
    },
    {
     "data": {
      "text/plain": [
       "<Deferred at 0x7f1f27aa5710>"
      ]
     },
     "execution_count": 6,
     "metadata": {},
     "output_type": "execute_result"
    }
   ],
   "source": [
    "# process = CrawlerProcess()\n",
    "# process.crawl(BookingComOpinions, start_urls=[ENTRY_URL], json_file=json_file)"
   ]
  },
  {
   "cell_type": "code",
   "execution_count": 7,
   "metadata": {},
   "outputs": [
    {
     "name": "stderr",
     "output_type": "stream",
     "text": [
      "2019-04-10 23:09:13 [scrapy.extensions.logstats] INFO: Crawled 2 pages (at 2 pages/min), scraped 0 items (at 0 items/min)\n",
      "2019-04-10 23:10:13 [scrapy.extensions.logstats] INFO: Crawled 17 pages (at 15 pages/min), scraped 0 items (at 0 items/min)\n",
      "2019-04-10 23:10:25 [scrapy.core.engine] INFO: Closing spider (closespider_itemcount)\n",
      "2019-04-10 23:11:13 [scrapy.extensions.logstats] INFO: Crawled 27 pages (at 10 pages/min), scraped 64 items (at 64 items/min)\n",
      "2019-04-10 23:11:26 [scrapy.extensions.feedexport] INFO: Stored json feed (72 items) in: hotels.json\n",
      "2019-04-10 23:11:26 [scrapy.statscollectors] INFO: Dumping Scrapy stats:\n",
      "{'downloader/request_bytes': 31528,\n",
      " 'downloader/request_count': 54,\n",
      " 'downloader/request_method_count/GET': 54,\n",
      " 'downloader/response_bytes': 4282062,\n",
      " 'downloader/response_count': 54,\n",
      " 'downloader/response_status_count/200': 29,\n",
      " 'downloader/response_status_count/301': 25,\n",
      " 'dupefilter/filtered': 5,\n",
      " 'finish_reason': 'closespider_itemcount',\n",
      " 'finish_time': datetime.datetime(2019, 4, 10, 21, 11, 26, 113565),\n",
      " 'item_scraped_count': 72,\n",
      " 'log_count/INFO': 12,\n",
      " 'memusage/max': 190115840,\n",
      " 'memusage/startup': 74035200,\n",
      " 'request_depth_max': 4,\n",
      " 'response_received_count': 29,\n",
      " 'scheduler/dequeued': 54,\n",
      " 'scheduler/dequeued/memory': 54,\n",
      " 'scheduler/enqueued': 99,\n",
      " 'scheduler/enqueued/memory': 99,\n",
      " 'start_time': datetime.datetime(2019, 4, 10, 21, 8, 13, 445138)}\n",
      "2019-04-10 23:11:26 [scrapy.core.engine] INFO: Spider closed (closespider_itemcount)\n"
     ]
    }
   ],
   "source": [
    "# process.start()"
   ]
  },
  {
   "cell_type": "code",
   "execution_count": null,
   "metadata": {},
   "outputs": [],
   "source": []
  },
  {
   "cell_type": "code",
   "execution_count": null,
   "metadata": {},
   "outputs": [],
   "source": []
  }
 ],
 "metadata": {
  "kernelspec": {
   "display_name": "Python 3",
   "language": "python",
   "name": "python3"
  },
  "language_info": {
   "codemirror_mode": {
    "name": "ipython",
    "version": 3
   },
   "file_extension": ".py",
   "mimetype": "text/x-python",
   "name": "python",
   "nbconvert_exporter": "python",
   "pygments_lexer": "ipython3",
   "version": "3.7.2"
  }
 },
 "nbformat": 4,
 "nbformat_minor": 2
}
